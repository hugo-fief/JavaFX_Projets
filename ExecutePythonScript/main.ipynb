{
  "metadata": {
    "kernelspec": {
      "name": "python",
      "display_name": "Python (Pyodide)",
      "language": "python"
    },
    "language_info": {
      "codemirror_mode": {
        "name": "python",
        "version": 3
      },
      "file_extension": ".py",
      "mimetype": "text/x-python",
      "name": "python",
      "nbconvert_exporter": "python",
      "pygments_lexer": "ipython3",
      "version": "3.8"
    }
  },
  "nbformat_minor": 4,
  "nbformat": 4,
  "cells": [
    {
      "cell_type": "code",
      "source": "%pip install pandas\n%pip install matplotlib\n%pip install openpyxl",
      "metadata": {
        "trusted": true
      },
      "outputs": [],
      "execution_count": 8
    },
    {
      "cell_type": "code",
      "source": "import sys\nimport pandas as pd\nimport matplotlib.pyplot as plt",
      "metadata": {
        "trusted": true
      },
      "outputs": [],
      "execution_count": 9
    },
    {
      "cell_type": "code",
      "source": "def generate_graphs(excel_file, output_folder):\n    # Charger les données Excel\n    data = pd.read_excel(excel_file)\n\n    # Courbe de \"Valeur_A\" dans le temps\n    plt.figure(figsize=(10, 6))\n    plt.plot(data['Date'], data['Valeur_A'], label='Valeur_A')\n    plt.xlabel(\"Date\")\n    plt.ylabel(\"Valeur_A\")\n    plt.title(\"Courbe de Valeur_A dans le temps\")\n    plt.legend()\n    plt.savefig(f\"{output_folder}/courbe_valeur_a.png\")\n    plt.close()\n\n    # Histogramme de \"Valeur_A\"\n    plt.figure(figsize=(8, 6))\n    plt.hist(data['Valeur_A'], bins=15, alpha=0.7, color='blue')\n    plt.xlabel(\"Valeur_A\")\n    plt.ylabel(\"Fréquence\")\n    plt.title(\"Histogramme de Valeur_A\")\n    plt.savefig(f\"{output_folder}/histogramme_valeur_a.png\")\n    plt.close()\n\n    # Histogramme de \"Valeur_B\"\n    plt.figure(figsize=(8, 6))\n    plt.hist(data['Valeur_B'], bins=15, alpha=0.7, color='green')\n    plt.xlabel(\"Valeur_B\")\n    plt.ylabel(\"Fréquence\")\n    plt.title(\"Histogramme de Valeur_B\")\n    plt.savefig(f\"{output_folder}/histogramme_valeur_b.png\")\n    plt.close()\n\n    print(\"Graphiques générés et enregistrés avec succès.\")\n",
      "metadata": {
        "trusted": true
      },
      "outputs": [],
      "execution_count": null
    },
    {
      "cell_type": "code",
      "source": "excel_file = \"./data.xlsx\"\noutput_folder = \"./output\"\n\ngenerate_graphs(excel_file, output_folder)",
      "metadata": {
        "trusted": true
      },
      "outputs": [],
      "execution_count": null
    }
  ]
}