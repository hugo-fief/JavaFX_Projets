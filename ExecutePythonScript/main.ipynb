{
 "cells": [
  {
   "cell_type": "code",
   "execution_count": 8,
   "metadata": {
    "trusted": true
   },
   "outputs": [],
   "source": [
    "%pip install pandas\n",
    "%pip install matplotlib\n",
    "%pip install openpyxl"
   ]
  },
  {
   "cell_type": "code",
   "execution_count": 9,
   "metadata": {
    "trusted": true
   },
   "outputs": [],
   "source": [
    "import sys\n",
    "import pandas as pd\n",
    "import matplotlib.pyplot as plt"
   ]
  },
  {
   "cell_type": "code",
   "execution_count": null,
   "metadata": {
    "trusted": true
   },
   "outputs": [],
   "source": [
    "def generate_graphs(excel_file, output_folder):\n",
    "    # Charger les donnees Excel\n",
    "    data = pd.read_excel(excel_file)\n",
    "\n",
    "    # Courbe de \"Valeur_A\" dans le temps\n",
    "    plt.figure(figsize=(10, 6))\n",
    "    plt.plot(data['Date'], data['Valeur_A'], label='Valeur_A')\n",
    "    plt.xlabel(\"Date\")\n",
    "    plt.ylabel(\"Valeur_A\")\n",
    "    plt.title(\"Courbe de Valeur_A dans le temps\")\n",
    "    plt.legend()\n",
    "    plt.savefig(f\"{output_folder}/courbe_valeur_a.png\")\n",
    "    plt.close()\n",
    "\n",
    "    # Histogramme de \"Valeur_A\"\n",
    "    plt.figure(figsize=(8, 6))\n",
    "    plt.hist(data['Valeur_A'], bins=15, alpha=0.7, color='blue')\n",
    "    plt.xlabel(\"Valeur_A\")\n",
    "    plt.ylabel(\"Frequence\")\n",
    "    plt.title(\"Histogramme de Valeur_A\")\n",
    "    plt.savefig(f\"{output_folder}/histogramme_valeur_a.png\")\n",
    "    plt.close()\n",
    "\n",
    "    # Histogramme de \"Valeur_B\"\n",
    "    plt.figure(figsize=(8, 6))\n",
    "    plt.hist(data['Valeur_B'], bins=15, alpha=0.7, color='green')\n",
    "    plt.xlabel(\"Valeur_B\")\n",
    "    plt.ylabel(\"Frequence\")\n",
    "    plt.title(\"Histogramme de Valeur_B\")\n",
    "    plt.savefig(f\"{output_folder}/histogramme_valeur_b.png\")\n",
    "    plt.close()\n",
    "\n",
    "    print(\"Graphiques generes et enregistres avec succes.\")\n"
   ]
  },
  {
   "cell_type": "code",
   "execution_count": null,
   "metadata": {
    "trusted": true
   },
   "outputs": [],
   "source": [
    "excel_file = \"./data.xlsx\"\n",
    "output_folder = \"./output\"\n",
    "\n",
    "generate_graphs(excel_file, output_folder)"
   ]
  }
 ],
 "metadata": {
  "kernelspec": {
   "display_name": "Python (Pyodide)",
   "language": "python",
   "name": "python"
  },
  "language_info": {
   "codemirror_mode": {
    "name": "python",
    "version": 3
   },
   "file_extension": ".py",
   "mimetype": "text/x-python",
   "name": "python",
   "nbconvert_exporter": "python",
   "pygments_lexer": "ipython3",
   "version": "3.8"
  }
 },
 "nbformat": 4,
 "nbformat_minor": 4
}
